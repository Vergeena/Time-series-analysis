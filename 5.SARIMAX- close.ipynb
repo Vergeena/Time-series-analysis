{
 "cells": [
  {
   "cell_type": "code",
   "execution_count": 1,
   "id": "40a9d2c2",
   "metadata": {},
   "outputs": [],
   "source": [
    "import pandas as pd\n",
    "import datetime as dt\n",
    "import yfinance as yf\n",
    "from sklearn.preprocessing import MinMaxScaler\n",
    "from sklearn.metrics import mean_squared_error\n",
    "from statsmodels.tsa.statespace.sarimax import SARIMAX"
   ]
  },
  {
   "cell_type": "code",
   "execution_count": 2,
   "id": "72151c21",
   "metadata": {},
   "outputs": [
    {
     "name": "stderr",
     "output_type": "stream",
     "text": [
      "[*********************100%%**********************]  1 of 1 completed\n"
     ]
    }
   ],
   "source": [
    "# Fetching data\n",
    "start = dt.datetime(2021, 7, 1)\n",
    "end = dt.datetime(2022, 1, 27)\n",
    "symbol = 'AXISBANK.NS'\n",
    "stk_data = yf.download(symbol, start=start, end=end)"
   ]
  },
  {
   "cell_type": "code",
   "execution_count": 3,
   "id": "e3e43ecf",
   "metadata": {},
   "outputs": [],
   "source": [
    "# Selecting specific columns\n",
    "stk_data = stk_data[[\"Open\", \"High\", \"Low\", \"Close\"]]"
   ]
  },
  {
   "cell_type": "code",
   "execution_count": 4,
   "id": "15876ce4",
   "metadata": {},
   "outputs": [
    {
     "data": {
      "text/html": [
       "<div>\n",
       "<style scoped>\n",
       "    .dataframe tbody tr th:only-of-type {\n",
       "        vertical-align: middle;\n",
       "    }\n",
       "\n",
       "    .dataframe tbody tr th {\n",
       "        vertical-align: top;\n",
       "    }\n",
       "\n",
       "    .dataframe thead th {\n",
       "        text-align: right;\n",
       "    }\n",
       "</style>\n",
       "<table border=\"1\" class=\"dataframe\">\n",
       "  <thead>\n",
       "    <tr style=\"text-align: right;\">\n",
       "      <th></th>\n",
       "      <th>Open</th>\n",
       "      <th>High</th>\n",
       "      <th>Low</th>\n",
       "      <th>Close</th>\n",
       "    </tr>\n",
       "    <tr>\n",
       "      <th>Date</th>\n",
       "      <th></th>\n",
       "      <th></th>\n",
       "      <th></th>\n",
       "      <th></th>\n",
       "    </tr>\n",
       "  </thead>\n",
       "  <tbody>\n",
       "    <tr>\n",
       "      <th>2021-07-01</th>\n",
       "      <td>750.000000</td>\n",
       "      <td>754.400024</td>\n",
       "      <td>744.500000</td>\n",
       "      <td>746.450012</td>\n",
       "    </tr>\n",
       "    <tr>\n",
       "      <th>2021-07-02</th>\n",
       "      <td>747.599976</td>\n",
       "      <td>752.849976</td>\n",
       "      <td>744.000000</td>\n",
       "      <td>750.650024</td>\n",
       "    </tr>\n",
       "    <tr>\n",
       "      <th>2021-07-05</th>\n",
       "      <td>757.099976</td>\n",
       "      <td>762.000000</td>\n",
       "      <td>753.400024</td>\n",
       "      <td>760.349976</td>\n",
       "    </tr>\n",
       "    <tr>\n",
       "      <th>2021-07-06</th>\n",
       "      <td>757.000000</td>\n",
       "      <td>767.000000</td>\n",
       "      <td>755.200012</td>\n",
       "      <td>758.349976</td>\n",
       "    </tr>\n",
       "    <tr>\n",
       "      <th>2021-07-07</th>\n",
       "      <td>755.900024</td>\n",
       "      <td>764.000000</td>\n",
       "      <td>752.250000</td>\n",
       "      <td>762.900024</td>\n",
       "    </tr>\n",
       "    <tr>\n",
       "      <th>...</th>\n",
       "      <td>...</td>\n",
       "      <td>...</td>\n",
       "      <td>...</td>\n",
       "      <td>...</td>\n",
       "    </tr>\n",
       "    <tr>\n",
       "      <th>2022-01-19</th>\n",
       "      <td>725.200012</td>\n",
       "      <td>731.950012</td>\n",
       "      <td>718.700012</td>\n",
       "      <td>729.599976</td>\n",
       "    </tr>\n",
       "    <tr>\n",
       "      <th>2022-01-20</th>\n",
       "      <td>731.049988</td>\n",
       "      <td>737.150024</td>\n",
       "      <td>722.150024</td>\n",
       "      <td>728.900024</td>\n",
       "    </tr>\n",
       "    <tr>\n",
       "      <th>2022-01-21</th>\n",
       "      <td>722.000000</td>\n",
       "      <td>725.250000</td>\n",
       "      <td>708.049988</td>\n",
       "      <td>712.500000</td>\n",
       "    </tr>\n",
       "    <tr>\n",
       "      <th>2022-01-24</th>\n",
       "      <td>715.000000</td>\n",
       "      <td>716.400024</td>\n",
       "      <td>688.200012</td>\n",
       "      <td>704.599976</td>\n",
       "    </tr>\n",
       "    <tr>\n",
       "      <th>2022-01-25</th>\n",
       "      <td>714.000000</td>\n",
       "      <td>755.000000</td>\n",
       "      <td>708.599976</td>\n",
       "      <td>752.200012</td>\n",
       "    </tr>\n",
       "  </tbody>\n",
       "</table>\n",
       "<p>143 rows × 4 columns</p>\n",
       "</div>"
      ],
      "text/plain": [
       "                  Open        High         Low       Close\n",
       "Date                                                      \n",
       "2021-07-01  750.000000  754.400024  744.500000  746.450012\n",
       "2021-07-02  747.599976  752.849976  744.000000  750.650024\n",
       "2021-07-05  757.099976  762.000000  753.400024  760.349976\n",
       "2021-07-06  757.000000  767.000000  755.200012  758.349976\n",
       "2021-07-07  755.900024  764.000000  752.250000  762.900024\n",
       "...                ...         ...         ...         ...\n",
       "2022-01-19  725.200012  731.950012  718.700012  729.599976\n",
       "2022-01-20  731.049988  737.150024  722.150024  728.900024\n",
       "2022-01-21  722.000000  725.250000  708.049988  712.500000\n",
       "2022-01-24  715.000000  716.400024  688.200012  704.599976\n",
       "2022-01-25  714.000000  755.000000  708.599976  752.200012\n",
       "\n",
       "[143 rows x 4 columns]"
      ]
     },
     "execution_count": 4,
     "metadata": {},
     "output_type": "execute_result"
    }
   ],
   "source": [
    "stk_data"
   ]
  },
  {
   "cell_type": "code",
   "execution_count": 5,
   "id": "5747ec82",
   "metadata": {},
   "outputs": [
    {
     "name": "stdout",
     "output_type": "stream",
     "text": [
      "<class 'pandas.core.frame.DataFrame'>\n",
      "DatetimeIndex: 143 entries, 2021-07-01 to 2022-01-25\n",
      "Data columns (total 4 columns):\n",
      " #   Column  Non-Null Count  Dtype  \n",
      "---  ------  --------------  -----  \n",
      " 0   Open    143 non-null    float64\n",
      " 1   High    143 non-null    float64\n",
      " 2   Low     143 non-null    float64\n",
      " 3   Close   143 non-null    float64\n",
      "dtypes: float64(4)\n",
      "memory usage: 5.6 KB\n"
     ]
    }
   ],
   "source": [
    "stk_data.info()"
   ]
  },
  {
   "cell_type": "code",
   "execution_count": 6,
   "id": "874c55e0",
   "metadata": {},
   "outputs": [],
   "source": [
    "# Scaling data\n",
    "column = \"Close\"\n",
    "MS = MinMaxScaler()\n",
    "data1 = MS.fit_transform(stk_data[[column]])"
   ]
  },
  {
   "cell_type": "code",
   "execution_count": 7,
   "id": "b3735e0f",
   "metadata": {},
   "outputs": [],
   "source": [
    "# Splitting the data into train and test sets\n",
    "training_size = round(len(data1) * 0.80)\n",
    "X_train = data1[:training_size]\n",
    "X_test = data1[training_size:]\n",
    "y_train = data1[:training_size]\n",
    "y_test = data1[training_size:]"
   ]
  },
  {
   "cell_type": "code",
   "execution_count": 8,
   "id": "24c70515",
   "metadata": {},
   "outputs": [],
   "source": [
    "import warnings\n",
    "warnings.filterwarnings(\"ignore\")"
   ]
  },
  {
   "cell_type": "code",
   "execution_count": 9,
   "id": "4744beaf",
   "metadata": {},
   "outputs": [],
   "source": [
    "# Define trends and lags\n",
    "#trends = ['n', 't', 'c', 'ct']\n",
    "orders = [(0,0,0),(0,0,1),(2,0,1),(1,1,1)]"
   ]
  },
  {
   "cell_type": "code",
   "execution_count": 10,
   "id": "a2bb5e79",
   "metadata": {},
   "outputs": [],
   "source": [
    "# Function to calculate RMSE and MAPE\n",
    "def rmsemape(actual, predicted):\n",
    "    mse = mean_squared_error(actual, predicted, squared=False)\n",
    "    print(f\"RMSE: {mse}\")\n",
    "    mape = np.mean(np.abs((actual - predicted) / actual)) * 100\n",
    "    print(f\"MAPE: {mape}%\")\n",
    "    return mse, mape"
   ]
  },
  {
   "cell_type": "code",
   "execution_count": 11,
   "id": "e6d7cc60",
   "metadata": {},
   "outputs": [
    {
     "name": "stdout",
     "output_type": "stream",
     "text": [
      "RMSE: 0.318401583689947\n",
      "MAPE: 100.0%\n",
      "****\n",
      "RMSE: 0.31349631914945314\n",
      "MAPE: 99.07981088515065%\n",
      "****\n",
      "RMSE: 0.1645900022417401\n",
      "MAPE: 74.84847253802036%\n",
      "****\n",
      "RMSE: 0.1499468920795021\n",
      "MAPE: 85.7818081981558%\n",
      "****\n"
     ]
    }
   ],
   "source": [
    "# Training and evaluating models\n",
    "import numpy as np\n",
    "for i in orders:\n",
    "#for td in trends:\n",
    "    model = SARIMAX(X_train,order=i,seasonal_order=(0,0,0,12))\n",
    "    model_fit = model.fit()\n",
    "    y_pred = model_fit.predict(len(X_train), len(data1) - 1)\n",
    "    #print(f\"Trend={td}\")\n",
    "    rmsemape(y_test, y_pred)\n",
    "    print(\"****\")"
   ]
  },
  {
   "cell_type": "code",
   "execution_count": 12,
   "id": "d1fded0f",
   "metadata": {},
   "outputs": [],
   "source": [
    "# Forecasting\n",
    "i = (2,0,1)\n",
    "#td = 'ct'\n",
    "model = SARIMAX(X_train,order=i,seasonal_order=(0,0,0,12))\n",
    "model_fit = model.fit()\n",
    "y_pred = model_fit.predict(len(X_train), len(data1) - 1)"
   ]
  },
  {
   "cell_type": "code",
   "execution_count": 13,
   "id": "262a4c13",
   "metadata": {},
   "outputs": [
    {
     "data": {
      "text/plain": [
       "array([0.31504557, 0.31185401, 0.30860294, 0.30538091, 0.30219227,\n",
       "       0.29903691, 0.29591449, 0.29282468, 0.28976713, 0.28674151,\n",
       "       0.28374748, 0.28078471, 0.27785287, 0.27495165, 0.27208073,\n",
       "       0.26923978, 0.26642849, 0.26364656, 0.26089367, 0.25816953,\n",
       "       0.25547384, 0.25280629, 0.2501666 , 0.24755446, 0.24496961,\n",
       "       0.24241174, 0.23988058, 0.23737585, 0.23489727])"
      ]
     },
     "execution_count": 13,
     "metadata": {},
     "output_type": "execute_result"
    }
   ],
   "source": [
    "y_pred"
   ]
  },
  {
   "cell_type": "code",
   "execution_count": 14,
   "id": "89a4c102",
   "metadata": {},
   "outputs": [],
   "source": [
    "# Inverse transform the scaled data\n",
    "aTestNormTable = pd.DataFrame(y_test, columns=[column])\n",
    "actual_stock_price_test_ori = MS.inverse_transform(aTestNormTable)\n",
    "actual_stock_price_test_oriA = pd.DataFrame(actual_stock_price_test_ori, columns=[column])"
   ]
  },
  {
   "cell_type": "code",
   "execution_count": 15,
   "id": "5a8c82a6",
   "metadata": {},
   "outputs": [
    {
     "data": {
      "text/html": [
       "<div>\n",
       "<style scoped>\n",
       "    .dataframe tbody tr th:only-of-type {\n",
       "        vertical-align: middle;\n",
       "    }\n",
       "\n",
       "    .dataframe tbody tr th {\n",
       "        vertical-align: top;\n",
       "    }\n",
       "\n",
       "    .dataframe thead th {\n",
       "        text-align: right;\n",
       "    }\n",
       "</style>\n",
       "<table border=\"1\" class=\"dataframe\">\n",
       "  <thead>\n",
       "    <tr style=\"text-align: right;\">\n",
       "      <th></th>\n",
       "      <th>Close</th>\n",
       "    </tr>\n",
       "  </thead>\n",
       "  <tbody>\n",
       "    <tr>\n",
       "      <th>0</th>\n",
       "      <td>709.650024</td>\n",
       "    </tr>\n",
       "    <tr>\n",
       "      <th>1</th>\n",
       "      <td>688.900024</td>\n",
       "    </tr>\n",
       "    <tr>\n",
       "      <th>2</th>\n",
       "      <td>674.349976</td>\n",
       "    </tr>\n",
       "    <tr>\n",
       "      <th>3</th>\n",
       "      <td>665.849976</td>\n",
       "    </tr>\n",
       "    <tr>\n",
       "      <th>4</th>\n",
       "      <td>669.349976</td>\n",
       "    </tr>\n",
       "    <tr>\n",
       "      <th>5</th>\n",
       "      <td>678.799988</td>\n",
       "    </tr>\n",
       "    <tr>\n",
       "      <th>6</th>\n",
       "      <td>667.500000</td>\n",
       "    </tr>\n",
       "    <tr>\n",
       "      <th>7</th>\n",
       "      <td>672.150024</td>\n",
       "    </tr>\n",
       "    <tr>\n",
       "      <th>8</th>\n",
       "      <td>675.450012</td>\n",
       "    </tr>\n",
       "    <tr>\n",
       "      <th>9</th>\n",
       "      <td>670.500000</td>\n",
       "    </tr>\n",
       "    <tr>\n",
       "      <th>10</th>\n",
       "      <td>668.849976</td>\n",
       "    </tr>\n",
       "    <tr>\n",
       "      <th>11</th>\n",
       "      <td>678.549988</td>\n",
       "    </tr>\n",
       "    <tr>\n",
       "      <th>12</th>\n",
       "      <td>696.349976</td>\n",
       "    </tr>\n",
       "    <tr>\n",
       "      <th>13</th>\n",
       "      <td>709.150024</td>\n",
       "    </tr>\n",
       "    <tr>\n",
       "      <th>14</th>\n",
       "      <td>726.900024</td>\n",
       "    </tr>\n",
       "    <tr>\n",
       "      <th>15</th>\n",
       "      <td>730.299988</td>\n",
       "    </tr>\n",
       "    <tr>\n",
       "      <th>16</th>\n",
       "      <td>730.599976</td>\n",
       "    </tr>\n",
       "    <tr>\n",
       "      <th>17</th>\n",
       "      <td>742.799988</td>\n",
       "    </tr>\n",
       "    <tr>\n",
       "      <th>18</th>\n",
       "      <td>743.250000</td>\n",
       "    </tr>\n",
       "    <tr>\n",
       "      <th>19</th>\n",
       "      <td>746.849976</td>\n",
       "    </tr>\n",
       "    <tr>\n",
       "      <th>20</th>\n",
       "      <td>740.700012</td>\n",
       "    </tr>\n",
       "    <tr>\n",
       "      <th>21</th>\n",
       "      <td>721.700012</td>\n",
       "    </tr>\n",
       "    <tr>\n",
       "      <th>22</th>\n",
       "      <td>712.650024</td>\n",
       "    </tr>\n",
       "    <tr>\n",
       "      <th>23</th>\n",
       "      <td>725.200012</td>\n",
       "    </tr>\n",
       "    <tr>\n",
       "      <th>24</th>\n",
       "      <td>729.599976</td>\n",
       "    </tr>\n",
       "    <tr>\n",
       "      <th>25</th>\n",
       "      <td>728.900024</td>\n",
       "    </tr>\n",
       "    <tr>\n",
       "      <th>26</th>\n",
       "      <td>712.500000</td>\n",
       "    </tr>\n",
       "    <tr>\n",
       "      <th>27</th>\n",
       "      <td>704.599976</td>\n",
       "    </tr>\n",
       "    <tr>\n",
       "      <th>28</th>\n",
       "      <td>752.200012</td>\n",
       "    </tr>\n",
       "  </tbody>\n",
       "</table>\n",
       "</div>"
      ],
      "text/plain": [
       "         Close\n",
       "0   709.650024\n",
       "1   688.900024\n",
       "2   674.349976\n",
       "3   665.849976\n",
       "4   669.349976\n",
       "5   678.799988\n",
       "6   667.500000\n",
       "7   672.150024\n",
       "8   675.450012\n",
       "9   670.500000\n",
       "10  668.849976\n",
       "11  678.549988\n",
       "12  696.349976\n",
       "13  709.150024\n",
       "14  726.900024\n",
       "15  730.299988\n",
       "16  730.599976\n",
       "17  742.799988\n",
       "18  743.250000\n",
       "19  746.849976\n",
       "20  740.700012\n",
       "21  721.700012\n",
       "22  712.650024\n",
       "23  725.200012\n",
       "24  729.599976\n",
       "25  728.900024\n",
       "26  712.500000\n",
       "27  704.599976\n",
       "28  752.200012"
      ]
     },
     "execution_count": 15,
     "metadata": {},
     "output_type": "execute_result"
    }
   ],
   "source": [
    "actual_stock_price_test_oriA"
   ]
  },
  {
   "cell_type": "code",
   "execution_count": 16,
   "id": "5c399b03",
   "metadata": {},
   "outputs": [],
   "source": [
    "pTestNormTable = pd.DataFrame(y_pred, columns=[column])\n",
    "predicted_stock_price_test_ori = MS.inverse_transform(pTestNormTable)\n",
    "predicted_stock_price_test_oriP = pd.DataFrame(predicted_stock_price_test_ori, columns=[column])"
   ]
  },
  {
   "cell_type": "code",
   "execution_count": 17,
   "id": "f67b9fb5",
   "metadata": {},
   "outputs": [
    {
     "data": {
      "text/html": [
       "<div>\n",
       "<style scoped>\n",
       "    .dataframe tbody tr th:only-of-type {\n",
       "        vertical-align: middle;\n",
       "    }\n",
       "\n",
       "    .dataframe tbody tr th {\n",
       "        vertical-align: top;\n",
       "    }\n",
       "\n",
       "    .dataframe thead th {\n",
       "        text-align: right;\n",
       "    }\n",
       "</style>\n",
       "<table border=\"1\" class=\"dataframe\">\n",
       "  <thead>\n",
       "    <tr style=\"text-align: right;\">\n",
       "      <th></th>\n",
       "      <th>Close</th>\n",
       "    </tr>\n",
       "  </thead>\n",
       "  <tbody>\n",
       "    <tr>\n",
       "      <th>0</th>\n",
       "      <td>712.218817</td>\n",
       "    </tr>\n",
       "    <tr>\n",
       "      <th>1</th>\n",
       "      <td>711.599653</td>\n",
       "    </tr>\n",
       "    <tr>\n",
       "      <th>2</th>\n",
       "      <td>710.968945</td>\n",
       "    </tr>\n",
       "    <tr>\n",
       "      <th>3</th>\n",
       "      <td>710.343872</td>\n",
       "    </tr>\n",
       "    <tr>\n",
       "      <th>4</th>\n",
       "      <td>709.725276</td>\n",
       "    </tr>\n",
       "    <tr>\n",
       "      <th>5</th>\n",
       "      <td>709.113136</td>\n",
       "    </tr>\n",
       "    <tr>\n",
       "      <th>6</th>\n",
       "      <td>708.507387</td>\n",
       "    </tr>\n",
       "    <tr>\n",
       "      <th>7</th>\n",
       "      <td>707.907964</td>\n",
       "    </tr>\n",
       "    <tr>\n",
       "      <th>8</th>\n",
       "      <td>707.314799</td>\n",
       "    </tr>\n",
       "    <tr>\n",
       "      <th>9</th>\n",
       "      <td>706.727828</td>\n",
       "    </tr>\n",
       "    <tr>\n",
       "      <th>10</th>\n",
       "      <td>706.146986</td>\n",
       "    </tr>\n",
       "    <tr>\n",
       "      <th>11</th>\n",
       "      <td>705.572209</td>\n",
       "    </tr>\n",
       "    <tr>\n",
       "      <th>12</th>\n",
       "      <td>705.003433</td>\n",
       "    </tr>\n",
       "    <tr>\n",
       "      <th>13</th>\n",
       "      <td>704.440596</td>\n",
       "    </tr>\n",
       "    <tr>\n",
       "      <th>14</th>\n",
       "      <td>703.883637</td>\n",
       "    </tr>\n",
       "    <tr>\n",
       "      <th>15</th>\n",
       "      <td>703.332492</td>\n",
       "    </tr>\n",
       "    <tr>\n",
       "      <th>16</th>\n",
       "      <td>702.787103</td>\n",
       "    </tr>\n",
       "    <tr>\n",
       "      <th>17</th>\n",
       "      <td>702.247408</td>\n",
       "    </tr>\n",
       "    <tr>\n",
       "      <th>18</th>\n",
       "      <td>701.713348</td>\n",
       "    </tr>\n",
       "    <tr>\n",
       "      <th>19</th>\n",
       "      <td>701.184865</td>\n",
       "    </tr>\n",
       "    <tr>\n",
       "      <th>20</th>\n",
       "      <td>700.661900</td>\n",
       "    </tr>\n",
       "    <tr>\n",
       "      <th>21</th>\n",
       "      <td>700.144396</td>\n",
       "    </tr>\n",
       "    <tr>\n",
       "      <th>22</th>\n",
       "      <td>699.632295</td>\n",
       "    </tr>\n",
       "    <tr>\n",
       "      <th>23</th>\n",
       "      <td>699.125542</td>\n",
       "    </tr>\n",
       "    <tr>\n",
       "      <th>24</th>\n",
       "      <td>698.624079</td>\n",
       "    </tr>\n",
       "    <tr>\n",
       "      <th>25</th>\n",
       "      <td>698.127853</td>\n",
       "    </tr>\n",
       "    <tr>\n",
       "      <th>26</th>\n",
       "      <td>697.636808</td>\n",
       "    </tr>\n",
       "    <tr>\n",
       "      <th>27</th>\n",
       "      <td>697.150891</td>\n",
       "    </tr>\n",
       "    <tr>\n",
       "      <th>28</th>\n",
       "      <td>696.670047</td>\n",
       "    </tr>\n",
       "  </tbody>\n",
       "</table>\n",
       "</div>"
      ],
      "text/plain": [
       "         Close\n",
       "0   712.218817\n",
       "1   711.599653\n",
       "2   710.968945\n",
       "3   710.343872\n",
       "4   709.725276\n",
       "5   709.113136\n",
       "6   708.507387\n",
       "7   707.907964\n",
       "8   707.314799\n",
       "9   706.727828\n",
       "10  706.146986\n",
       "11  705.572209\n",
       "12  705.003433\n",
       "13  704.440596\n",
       "14  703.883637\n",
       "15  703.332492\n",
       "16  702.787103\n",
       "17  702.247408\n",
       "18  701.713348\n",
       "19  701.184865\n",
       "20  700.661900\n",
       "21  700.144396\n",
       "22  699.632295\n",
       "23  699.125542\n",
       "24  698.624079\n",
       "25  698.127853\n",
       "26  697.636808\n",
       "27  697.150891\n",
       "28  696.670047"
      ]
     },
     "execution_count": 17,
     "metadata": {},
     "output_type": "execute_result"
    }
   ],
   "source": [
    "predicted_stock_price_test_oriP"
   ]
  },
  {
   "cell_type": "code",
   "execution_count": 18,
   "id": "08622a0b",
   "metadata": {},
   "outputs": [
    {
     "data": {
      "image/png": "[encoded data removed]",
      "text/plain": [
       "<Figure size 1000x500 with 1 Axes>"
      ]
     },
     "metadata": {},
     "output_type": "display_data"
    }
   ],
   "source": [
    "# Plotting actual vs predicted prices\n",
    "import matplotlib.pyplot as plt\n",
    "\n",
    "plt.figure(figsize=(10, 5))\n",
    "plt.plot(actual_stock_price_test_oriA.values, color='blue', label=\"Actual\")\n",
    "plt.plot(predicted_stock_price_test_oriP.values, color='red', label=\"Predicted\")\n",
    "plt.legend()\n",
    "plt.title(\"Actual vs Predicted Stock Prices\")\n",
    "plt.xlabel(\"Days\")\n",
    "plt.ylabel(\"Prices\")\n",
    "plt.show()"
   ]
  },
  {
   "cell_type": "code",
   "execution_count": 19,
   "id": "2a12023c",
   "metadata": {},
   "outputs": [],
   "source": [
    "# Forecasting future prices\n",
    "forecast = model_fit.predict(len(data1), len(data1) + 3)\n",
    "fTestNormTable = pd.DataFrame(forecast, columns=[\"Closefore\"])\n",
    "forecast_stock_price_test_ori = MS.inverse_transform(fTestNormTable)\n",
    "forecast_stock_price_test_oriF = pd.DataFrame(forecast_stock_price_test_ori, columns=[\"Closefore\"])"
   ]
  },
  {
   "cell_type": "code",
   "execution_count": 20,
   "id": "7be7cc66",
   "metadata": {},
   "outputs": [
    {
     "data": {
      "text/plain": [
       "array([0.23244458, 0.23001749, 0.22761575, 0.22523908])"
      ]
     },
     "execution_count": 20,
     "metadata": {},
     "output_type": "execute_result"
    }
   ],
   "source": [
    "forecast"
   ]
  },
  {
   "cell_type": "code",
   "execution_count": 21,
   "id": "53c8a3d2",
   "metadata": {},
   "outputs": [
    {
     "data": {
      "text/html": [
       "<div>\n",
       "<style scoped>\n",
       "    .dataframe tbody tr th:only-of-type {\n",
       "        vertical-align: middle;\n",
       "    }\n",
       "\n",
       "    .dataframe tbody tr th {\n",
       "        vertical-align: top;\n",
       "    }\n",
       "\n",
       "    .dataframe thead th {\n",
       "        text-align: right;\n",
       "    }\n",
       "</style>\n",
       "<table border=\"1\" class=\"dataframe\">\n",
       "  <thead>\n",
       "    <tr style=\"text-align: right;\">\n",
       "      <th></th>\n",
       "      <th>Closefore</th>\n",
       "    </tr>\n",
       "  </thead>\n",
       "  <tbody>\n",
       "    <tr>\n",
       "      <th>0</th>\n",
       "      <td>0.232445</td>\n",
       "    </tr>\n",
       "    <tr>\n",
       "      <th>1</th>\n",
       "      <td>0.230017</td>\n",
       "    </tr>\n",
       "    <tr>\n",
       "      <th>2</th>\n",
       "      <td>0.227616</td>\n",
       "    </tr>\n",
       "    <tr>\n",
       "      <th>3</th>\n",
       "      <td>0.225239</td>\n",
       "    </tr>\n",
       "  </tbody>\n",
       "</table>\n",
       "</div>"
      ],
      "text/plain": [
       "   Closefore\n",
       "0   0.232445\n",
       "1   0.230017\n",
       "2   0.227616\n",
       "3   0.225239"
      ]
     },
     "execution_count": 21,
     "metadata": {},
     "output_type": "execute_result"
    }
   ],
   "source": [
    "fTestNormTable"
   ]
  },
  {
   "cell_type": "code",
   "execution_count": 22,
   "id": "fcba8912",
   "metadata": {},
   "outputs": [
    {
     "data": {
      "text/plain": [
       "array([[696.19422356],\n",
       "       [695.72336879],\n",
       "       [695.25743049],\n",
       "       [694.79635731]])"
      ]
     },
     "execution_count": 22,
     "metadata": {},
     "output_type": "execute_result"
    }
   ],
   "source": [
    "forecast_stock_price_test_ori"
   ]
  },
  {
   "cell_type": "code",
   "execution_count": 23,
   "id": "6f273fdf",
   "metadata": {},
   "outputs": [
    {
     "data": {
      "text/html": [
       "<div>\n",
       "<style scoped>\n",
       "    .dataframe tbody tr th:only-of-type {\n",
       "        vertical-align: middle;\n",
       "    }\n",
       "\n",
       "    .dataframe tbody tr th {\n",
       "        vertical-align: top;\n",
       "    }\n",
       "\n",
       "    .dataframe thead th {\n",
       "        text-align: right;\n",
       "    }\n",
       "</style>\n",
       "<table border=\"1\" class=\"dataframe\">\n",
       "  <thead>\n",
       "    <tr style=\"text-align: right;\">\n",
       "      <th></th>\n",
       "      <th>Closefore</th>\n",
       "    </tr>\n",
       "  </thead>\n",
       "  <tbody>\n",
       "    <tr>\n",
       "      <th>0</th>\n",
       "      <td>696.194224</td>\n",
       "    </tr>\n",
       "    <tr>\n",
       "      <th>1</th>\n",
       "      <td>695.723369</td>\n",
       "    </tr>\n",
       "    <tr>\n",
       "      <th>2</th>\n",
       "      <td>695.257430</td>\n",
       "    </tr>\n",
       "    <tr>\n",
       "      <th>3</th>\n",
       "      <td>694.796357</td>\n",
       "    </tr>\n",
       "  </tbody>\n",
       "</table>\n",
       "</div>"
      ],
      "text/plain": [
       "    Closefore\n",
       "0  696.194224\n",
       "1  695.723369\n",
       "2  695.257430\n",
       "3  694.796357"
      ]
     },
     "execution_count": 23,
     "metadata": {},
     "output_type": "execute_result"
    }
   ],
   "source": [
    "forecast_stock_price_test_oriF"
   ]
  },
  {
   "cell_type": "code",
   "execution_count": 24,
   "id": "1b1ad300",
   "metadata": {},
   "outputs": [],
   "source": [
    "# Save forecasted prices to CSV\n",
    "forecast_stock_price_test_oriF.to_csv(\"CloseSARIMAX.csv\", index=False)"
   ]
  },
  {
   "cell_type": "code",
   "execution_count": 25,
   "id": "17348a15",
   "metadata": {},
   "outputs": [
    {
     "data": {
      "text/plain": [
       "[<matplotlib.lines.Line2D at 0x1aa7e5d0c08>]"
      ]
     },
     "execution_count": 25,
     "metadata": {},
     "output_type": "execute_result"
    },
    {
     "data": {
      "image/png": "[encoded data removed]",
      "text/plain": [
       "<Figure size 1000x500 with 1 Axes>"
      ]
     },
     "metadata": {},
     "output_type": "display_data"
    }
   ],
   "source": [
    "import matplotlib.pyplot as plt\n",
    "plt.figure(figsize=(10,5))\n",
    "plt.plot(actual_stock_price_test_oriA[116:145], color = 'blue', label=\"Actual\")\n",
    "plt.plot(forecast_stock_price_test_oriF, color = 'red', label =\"Predicted\")"
   ]
  },
  {
   "cell_type": "code",
   "execution_count": null,
   "id": "8d24209f",
   "metadata": {},
   "outputs": [],
   "source": []
  }
 ],
 "metadata": {
  "kernelspec": {
   "display_name": "Python 3 (ipykernel)",
   "language": "python",
   "name": "python3"
  },
  "language_info": {
   "codemirror_mode": {
    "name": "ipython",
    "version": 3
   },
   "file_extension": ".py",
   "mimetype": "text/x-python",
   "name": "python",
   "nbconvert_exporter": "python",
   "pygments_lexer": "ipython3",
   "version": "3.7.6"
  }
 },
 "nbformat": 4,
 "nbformat_minor": 5
}
